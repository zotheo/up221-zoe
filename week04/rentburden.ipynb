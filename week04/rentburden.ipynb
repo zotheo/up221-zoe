{
 "cells": [
  {
   "cell_type": "markdown",
   "id": "e4fbc3d5-f81a-4474-88d7-e2868d88890b",
   "metadata": {},
   "source": [
    "## Rent Burden in Defined Neighborhoods\n",
    "For our project we are looking at the relationship between enforcement of unsanctioned uses of public space and gentrification. This week I am going to try to create some visualizations of gentrification indicators in the neighborhoods we are looking at for our project. One displacement indicator is rent burden, residents who spend 30% or more of thier income on rent are considered rent burdened and are at a higher risk of displacement. They do not have the safety net to withstand an increase in housing costs. "
   ]
  },
  {
   "cell_type": "code",
   "execution_count": 42,
   "id": "5ccde151-c93b-46d2-9c68-3ea1fa2c06ff",
   "metadata": {},
   "outputs": [],
   "source": [
    "import pandas as pd\n",
    "import geopandas as gpd"
   ]
  },
  {
   "cell_type": "markdown",
   "id": "6846c682-2802-46ef-9df8-7572bd33424f",
   "metadata": {},
   "source": [
    "# cleaning data"
   ]
  },
  {
   "cell_type": "markdown",
   "id": "158032e3-218b-4fb2-8305-80f403e7495d",
   "metadata": {},
   "source": [
    "getting the rent burden data on jupyter "
   ]
  },
  {
   "cell_type": "code",
   "execution_count": 43,
   "id": "357e68e1-b266-48d1-9fde-01d2c268e1a1",
   "metadata": {},
   "outputs": [],
   "source": [
    "rentburden = gpd.read_file('rent_burden.csv')"
   ]
  },
  {
   "cell_type": "markdown",
   "id": "c0ddc935-bd74-4d1d-8891-e8291e6fde73",
   "metadata": {},
   "source": [
    "looking at the data "
   ]
  },
  {
   "cell_type": "code",
   "execution_count": 44,
   "id": "37b511f8-9f22-44a6-ac08-e2acbf946218",
   "metadata": {},
   "outputs": [
    {
     "data": {
      "text/html": [
       "<div>\n",
       "<style scoped>\n",
       "    .dataframe tbody tr th:only-of-type {\n",
       "        vertical-align: middle;\n",
       "    }\n",
       "\n",
       "    .dataframe tbody tr th {\n",
       "        vertical-align: top;\n",
       "    }\n",
       "\n",
       "    .dataframe thead th {\n",
       "        text-align: right;\n",
       "    }\n",
       "</style>\n",
       "<table border=\"1\" class=\"dataframe\">\n",
       "  <thead>\n",
       "    <tr style=\"text-align: right;\">\n",
       "      <th></th>\n",
       "      <th>FIPS</th>\n",
       "      <th>Geographic Identifier</th>\n",
       "      <th>Name of Area</th>\n",
       "      <th>Renter-Occupied Housing Units</th>\n",
       "      <th>Renter-Occupied Housing Units: 30 to 49 Percent</th>\n",
       "      <th>Renter-Occupied Housing Units: 50 percent or More</th>\n",
       "      <th>% Renter-Occupied Housing Units: 30 to 49 Percent</th>\n",
       "      <th>% Renter-Occupied Housing Units: 50 percent or More</th>\n",
       "      <th>geometry</th>\n",
       "    </tr>\n",
       "  </thead>\n",
       "  <tbody>\n",
       "    <tr>\n",
       "      <th>0</th>\n",
       "      <td>06037101110</td>\n",
       "      <td>14000US06037101110</td>\n",
       "      <td>Census Tract 1011.10</td>\n",
       "      <td>829</td>\n",
       "      <td>225</td>\n",
       "      <td>279</td>\n",
       "      <td>27.14</td>\n",
       "      <td>33.66</td>\n",
       "      <td>None</td>\n",
       "    </tr>\n",
       "    <tr>\n",
       "      <th>1</th>\n",
       "      <td>06037101122</td>\n",
       "      <td>14000US06037101122</td>\n",
       "      <td>Census Tract 1011.22</td>\n",
       "      <td>230</td>\n",
       "      <td>106</td>\n",
       "      <td>53</td>\n",
       "      <td>46.09</td>\n",
       "      <td>23.04</td>\n",
       "      <td>None</td>\n",
       "    </tr>\n",
       "    <tr>\n",
       "      <th>2</th>\n",
       "      <td>06037101210</td>\n",
       "      <td>14000US06037101210</td>\n",
       "      <td>Census Tract 1012.10</td>\n",
       "      <td>1984</td>\n",
       "      <td>482</td>\n",
       "      <td>866</td>\n",
       "      <td>24.29</td>\n",
       "      <td>43.65</td>\n",
       "      <td>None</td>\n",
       "    </tr>\n",
       "    <tr>\n",
       "      <th>3</th>\n",
       "      <td>06037101220</td>\n",
       "      <td>14000US06037101220</td>\n",
       "      <td>Census Tract 1012.20</td>\n",
       "      <td>823</td>\n",
       "      <td>231</td>\n",
       "      <td>382</td>\n",
       "      <td>28.07</td>\n",
       "      <td>46.42</td>\n",
       "      <td>None</td>\n",
       "    </tr>\n",
       "    <tr>\n",
       "      <th>4</th>\n",
       "      <td>06037101300</td>\n",
       "      <td>14000US06037101300</td>\n",
       "      <td>Census Tract 1013</td>\n",
       "      <td>167</td>\n",
       "      <td>19</td>\n",
       "      <td>72</td>\n",
       "      <td>11.38</td>\n",
       "      <td>43.11</td>\n",
       "      <td>None</td>\n",
       "    </tr>\n",
       "  </tbody>\n",
       "</table>\n",
       "</div>"
      ],
      "text/plain": [
       "          FIPS Geographic Identifier          Name of Area  \\\n",
       "0  06037101110    14000US06037101110  Census Tract 1011.10   \n",
       "1  06037101122    14000US06037101122  Census Tract 1011.22   \n",
       "2  06037101210    14000US06037101210  Census Tract 1012.10   \n",
       "3  06037101220    14000US06037101220  Census Tract 1012.20   \n",
       "4  06037101300    14000US06037101300     Census Tract 1013   \n",
       "\n",
       "  Renter-Occupied Housing Units  \\\n",
       "0                           829   \n",
       "1                           230   \n",
       "2                          1984   \n",
       "3                           823   \n",
       "4                           167   \n",
       "\n",
       "  Renter-Occupied Housing Units: 30 to 49 Percent  \\\n",
       "0                                             225   \n",
       "1                                             106   \n",
       "2                                             482   \n",
       "3                                             231   \n",
       "4                                              19   \n",
       "\n",
       "  Renter-Occupied Housing Units: 50 percent or More  \\\n",
       "0                                               279   \n",
       "1                                                53   \n",
       "2                                               866   \n",
       "3                                               382   \n",
       "4                                                72   \n",
       "\n",
       "  % Renter-Occupied Housing Units: 30 to 49 Percent  \\\n",
       "0                                             27.14   \n",
       "1                                             46.09   \n",
       "2                                             24.29   \n",
       "3                                             28.07   \n",
       "4                                             11.38   \n",
       "\n",
       "  % Renter-Occupied Housing Units: 50 percent or More geometry  \n",
       "0                                              33.66      None  \n",
       "1                                              23.04      None  \n",
       "2                                              43.65      None  \n",
       "3                                              46.42      None  \n",
       "4                                              43.11      None  "
      ]
     },
     "execution_count": 44,
     "metadata": {},
     "output_type": "execute_result"
    }
   ],
   "source": [
    "rentburden.head()"
   ]
  },
  {
   "cell_type": "markdown",
   "id": "b253001e-e93e-4df3-88af-8a968fda84e5",
   "metadata": {},
   "source": [
    "here i am cleaning the data and deleting all the empty columns"
   ]
  },
  {
   "cell_type": "code",
   "execution_count": 45,
   "id": "96f7f46e-b477-4e80-8804-3e9c279cf7f4",
   "metadata": {},
   "outputs": [
    {
     "data": {
      "text/plain": [
       "['geometry']"
      ]
     },
     "execution_count": 45,
     "metadata": {},
     "output_type": "execute_result"
    }
   ],
   "source": [
    "rentburden.columns[rentburden.isna().all()].tolist()"
   ]
  },
  {
   "cell_type": "code",
   "execution_count": 46,
   "id": "de0a1e91-3195-46c1-a41f-58fd12bb3830",
   "metadata": {},
   "outputs": [],
   "source": [
    "rentburden = rentburden.dropna(axis=1,how=\"all\")"
   ]
  },
  {
   "cell_type": "code",
   "execution_count": 47,
   "id": "92c617d2-16b6-4cab-a74f-7320b8ac5cf2",
   "metadata": {},
   "outputs": [
    {
     "name": "stdout",
     "output_type": "stream",
     "text": [
      "<class 'pandas.core.frame.DataFrame'>\n",
      "RangeIndex: 2346 entries, 0 to 2345\n",
      "Data columns (total 8 columns):\n",
      " #   Column                                               Non-Null Count  Dtype \n",
      "---  ------                                               --------------  ----- \n",
      " 0   FIPS                                                 2346 non-null   object\n",
      " 1   Geographic Identifier                                2346 non-null   object\n",
      " 2   Name of Area                                         2346 non-null   object\n",
      " 3   Renter-Occupied Housing Units                        2346 non-null   object\n",
      " 4   Renter-Occupied Housing Units: 30 to 49 Percent      2346 non-null   object\n",
      " 5   Renter-Occupied Housing Units: 50 percent or More    2346 non-null   object\n",
      " 6   % Renter-Occupied Housing Units: 30 to 49 Percent    2346 non-null   object\n",
      " 7   % Renter-Occupied Housing Units: 50 percent or More  2346 non-null   object\n",
      "dtypes: object(8)\n",
      "memory usage: 146.8+ KB\n"
     ]
    }
   ],
   "source": [
    "rentburden.info()"
   ]
  },
  {
   "cell_type": "code",
   "execution_count": 48,
   "id": "71389594-df0f-4a0c-93db-8d8e6beb22ec",
   "metadata": {},
   "outputs": [],
   "source": [
    "rentburden = rentburden.drop(labels=1, axis =0)"
   ]
  },
  {
   "cell_type": "markdown",
   "id": "5d564db4-7263-4763-a6e4-81e47aec9277",
   "metadata": {},
   "source": [
    "checking to see if it worked ;) "
   ]
  },
  {
   "cell_type": "code",
   "execution_count": 49,
   "id": "49bde7f5-2beb-4e09-93e7-615faf418810",
   "metadata": {},
   "outputs": [
    {
     "data": {
      "text/html": [
       "<div>\n",
       "<style scoped>\n",
       "    .dataframe tbody tr th:only-of-type {\n",
       "        vertical-align: middle;\n",
       "    }\n",
       "\n",
       "    .dataframe tbody tr th {\n",
       "        vertical-align: top;\n",
       "    }\n",
       "\n",
       "    .dataframe thead th {\n",
       "        text-align: right;\n",
       "    }\n",
       "</style>\n",
       "<table border=\"1\" class=\"dataframe\">\n",
       "  <thead>\n",
       "    <tr style=\"text-align: right;\">\n",
       "      <th></th>\n",
       "      <th>FIPS</th>\n",
       "      <th>Geographic Identifier</th>\n",
       "      <th>Name of Area</th>\n",
       "      <th>Renter-Occupied Housing Units</th>\n",
       "      <th>Renter-Occupied Housing Units: 30 to 49 Percent</th>\n",
       "      <th>Renter-Occupied Housing Units: 50 percent or More</th>\n",
       "      <th>% Renter-Occupied Housing Units: 30 to 49 Percent</th>\n",
       "      <th>% Renter-Occupied Housing Units: 50 percent or More</th>\n",
       "    </tr>\n",
       "  </thead>\n",
       "  <tbody>\n",
       "    <tr>\n",
       "      <th>0</th>\n",
       "      <td>06037101110</td>\n",
       "      <td>14000US06037101110</td>\n",
       "      <td>Census Tract 1011.10</td>\n",
       "      <td>829</td>\n",
       "      <td>225</td>\n",
       "      <td>279</td>\n",
       "      <td>27.14</td>\n",
       "      <td>33.66</td>\n",
       "    </tr>\n",
       "    <tr>\n",
       "      <th>2</th>\n",
       "      <td>06037101210</td>\n",
       "      <td>14000US06037101210</td>\n",
       "      <td>Census Tract 1012.10</td>\n",
       "      <td>1984</td>\n",
       "      <td>482</td>\n",
       "      <td>866</td>\n",
       "      <td>24.29</td>\n",
       "      <td>43.65</td>\n",
       "    </tr>\n",
       "    <tr>\n",
       "      <th>3</th>\n",
       "      <td>06037101220</td>\n",
       "      <td>14000US06037101220</td>\n",
       "      <td>Census Tract 1012.20</td>\n",
       "      <td>823</td>\n",
       "      <td>231</td>\n",
       "      <td>382</td>\n",
       "      <td>28.07</td>\n",
       "      <td>46.42</td>\n",
       "    </tr>\n",
       "    <tr>\n",
       "      <th>4</th>\n",
       "      <td>06037101300</td>\n",
       "      <td>14000US06037101300</td>\n",
       "      <td>Census Tract 1013</td>\n",
       "      <td>167</td>\n",
       "      <td>19</td>\n",
       "      <td>72</td>\n",
       "      <td>11.38</td>\n",
       "      <td>43.11</td>\n",
       "    </tr>\n",
       "    <tr>\n",
       "      <th>5</th>\n",
       "      <td>06037101400</td>\n",
       "      <td>14000US06037101400</td>\n",
       "      <td>Census Tract 1014</td>\n",
       "      <td>424</td>\n",
       "      <td>109</td>\n",
       "      <td>143</td>\n",
       "      <td>25.71</td>\n",
       "      <td>33.73</td>\n",
       "    </tr>\n",
       "  </tbody>\n",
       "</table>\n",
       "</div>"
      ],
      "text/plain": [
       "          FIPS Geographic Identifier          Name of Area  \\\n",
       "0  06037101110    14000US06037101110  Census Tract 1011.10   \n",
       "2  06037101210    14000US06037101210  Census Tract 1012.10   \n",
       "3  06037101220    14000US06037101220  Census Tract 1012.20   \n",
       "4  06037101300    14000US06037101300     Census Tract 1013   \n",
       "5  06037101400    14000US06037101400     Census Tract 1014   \n",
       "\n",
       "  Renter-Occupied Housing Units  \\\n",
       "0                           829   \n",
       "2                          1984   \n",
       "3                           823   \n",
       "4                           167   \n",
       "5                           424   \n",
       "\n",
       "  Renter-Occupied Housing Units: 30 to 49 Percent  \\\n",
       "0                                             225   \n",
       "2                                             482   \n",
       "3                                             231   \n",
       "4                                              19   \n",
       "5                                             109   \n",
       "\n",
       "  Renter-Occupied Housing Units: 50 percent or More  \\\n",
       "0                                               279   \n",
       "2                                               866   \n",
       "3                                               382   \n",
       "4                                                72   \n",
       "5                                               143   \n",
       "\n",
       "  % Renter-Occupied Housing Units: 30 to 49 Percent  \\\n",
       "0                                             27.14   \n",
       "2                                             24.29   \n",
       "3                                             28.07   \n",
       "4                                             11.38   \n",
       "5                                             25.71   \n",
       "\n",
       "  % Renter-Occupied Housing Units: 50 percent or More  \n",
       "0                                              33.66   \n",
       "2                                              43.65   \n",
       "3                                              46.42   \n",
       "4                                              43.11   \n",
       "5                                              33.73   "
      ]
     },
     "execution_count": 49,
     "metadata": {},
     "output_type": "execute_result"
    }
   ],
   "source": [
    "rentburden.head()"
   ]
  },
  {
   "cell_type": "markdown",
   "id": "28f1b13d-e7e3-4685-abe8-b3c56502798f",
   "metadata": {},
   "source": [
    "i want to clean things up a little more so its easier to work with so I am making a new dataframe with just the percentages and shortening the column names "
   ]
  },
  {
   "cell_type": "code",
   "execution_count": 50,
   "id": "f29e3073-5934-434a-b3cb-eee270d22347",
   "metadata": {},
   "outputs": [
    {
     "data": {
      "text/plain": [
       "['FIPS',\n",
       " 'Geographic Identifier',\n",
       " 'Name of Area',\n",
       " 'Renter-Occupied Housing Units',\n",
       " 'Renter-Occupied Housing Units: 30 to 49 Percent',\n",
       " 'Renter-Occupied Housing Units: 50 percent or More',\n",
       " '% Renter-Occupied Housing Units: 30 to 49 Percent',\n",
       " '% Renter-Occupied Housing Units: 50 percent or More']"
      ]
     },
     "execution_count": 50,
     "metadata": {},
     "output_type": "execute_result"
    }
   ],
   "source": [
    "columns = list(rentburden) \n",
    "columns"
   ]
  },
  {
   "cell_type": "code",
   "execution_count": 51,
   "id": "9f140417-f74c-4f4d-a6a7-a696fb782fff",
   "metadata": {},
   "outputs": [],
   "source": [
    "columns_to_keep = ['FIPS',\n",
    "                   '% Renter-Occupied Housing Units: 30 to 49 Percent',\n",
    "                    '% Renter-Occupied Housing Units: 50 percent or More',\n",
    "                  ]\n",
    "df = rentburden[columns_to_keep]"
   ]
  },
  {
   "cell_type": "code",
   "execution_count": 52,
   "id": "c0fb8496-b8ba-46e4-894b-244f0cab22c0",
   "metadata": {},
   "outputs": [
    {
     "data": {
      "text/html": [
       "<div>\n",
       "<style scoped>\n",
       "    .dataframe tbody tr th:only-of-type {\n",
       "        vertical-align: middle;\n",
       "    }\n",
       "\n",
       "    .dataframe tbody tr th {\n",
       "        vertical-align: top;\n",
       "    }\n",
       "\n",
       "    .dataframe thead th {\n",
       "        text-align: right;\n",
       "    }\n",
       "</style>\n",
       "<table border=\"1\" class=\"dataframe\">\n",
       "  <thead>\n",
       "    <tr style=\"text-align: right;\">\n",
       "      <th></th>\n",
       "      <th>FIPS</th>\n",
       "      <th>% Renter-Occupied Housing Units: 30 to 49 Percent</th>\n",
       "      <th>% Renter-Occupied Housing Units: 50 percent or More</th>\n",
       "    </tr>\n",
       "  </thead>\n",
       "  <tbody>\n",
       "    <tr>\n",
       "      <th>0</th>\n",
       "      <td>06037101110</td>\n",
       "      <td>27.14</td>\n",
       "      <td>33.66</td>\n",
       "    </tr>\n",
       "    <tr>\n",
       "      <th>2</th>\n",
       "      <td>06037101210</td>\n",
       "      <td>24.29</td>\n",
       "      <td>43.65</td>\n",
       "    </tr>\n",
       "    <tr>\n",
       "      <th>3</th>\n",
       "      <td>06037101220</td>\n",
       "      <td>28.07</td>\n",
       "      <td>46.42</td>\n",
       "    </tr>\n",
       "    <tr>\n",
       "      <th>4</th>\n",
       "      <td>06037101300</td>\n",
       "      <td>11.38</td>\n",
       "      <td>43.11</td>\n",
       "    </tr>\n",
       "    <tr>\n",
       "      <th>5</th>\n",
       "      <td>06037101400</td>\n",
       "      <td>25.71</td>\n",
       "      <td>33.73</td>\n",
       "    </tr>\n",
       "  </tbody>\n",
       "</table>\n",
       "</div>"
      ],
      "text/plain": [
       "          FIPS % Renter-Occupied Housing Units: 30 to 49 Percent  \\\n",
       "0  06037101110                                             27.14   \n",
       "2  06037101210                                             24.29   \n",
       "3  06037101220                                             28.07   \n",
       "4  06037101300                                             11.38   \n",
       "5  06037101400                                             25.71   \n",
       "\n",
       "  % Renter-Occupied Housing Units: 50 percent or More  \n",
       "0                                              33.66   \n",
       "2                                              43.65   \n",
       "3                                              46.42   \n",
       "4                                              43.11   \n",
       "5                                              33.73   "
      ]
     },
     "execution_count": 52,
     "metadata": {},
     "output_type": "execute_result"
    }
   ],
   "source": [
    "df.head()"
   ]
  },
  {
   "cell_type": "code",
   "execution_count": 53,
   "id": "306de7ca-2608-415d-8749-10a7e7ea7246",
   "metadata": {},
   "outputs": [],
   "source": [
    "df = df.rename(columns={'% Renter-Occupied Housing Units: 30 to 49 Percent': 'PCT_thirty_plus', '% Renter-Occupied Housing Units: 50 percent or More': 'PCT_fifty_plus'})"
   ]
  },
  {
   "cell_type": "code",
   "execution_count": 54,
   "id": "7f938b91-4a3b-4212-9d15-ae39eacd209b",
   "metadata": {},
   "outputs": [
    {
     "name": "stdout",
     "output_type": "stream",
     "text": [
      "<class 'pandas.core.frame.DataFrame'>\n",
      "Int64Index: 2345 entries, 0 to 2345\n",
      "Data columns (total 3 columns):\n",
      " #   Column           Non-Null Count  Dtype \n",
      "---  ------           --------------  ----- \n",
      " 0   FIPS             2345 non-null   object\n",
      " 1   PCT_thirty_plus  2345 non-null   object\n",
      " 2   PCT_fifty_plus   2345 non-null   object\n",
      "dtypes: object(3)\n",
      "memory usage: 73.3+ KB\n"
     ]
    }
   ],
   "source": [
    "df.info()"
   ]
  },
  {
   "cell_type": "markdown",
   "id": "e71c1edc-dc9a-4338-81f2-73518585cda2",
   "metadata": {},
   "source": [
    "i want to delete empty rows so i can turn the entire column into integers and find averages. some of the census tracts dont have this question completed in the dataset and are left blank, pandas doesnt seem to want to do math with empty values so i am deleting them. to do this, i replaced all the empty values with \"nan\" and then deleted all the rows with \"nan\""
   ]
  },
  {
   "cell_type": "code",
   "execution_count": 55,
   "id": "8567105f-2b67-4915-9a17-170e0cf7b4c5",
   "metadata": {},
   "outputs": [],
   "source": [
    "import numpy as np"
   ]
  },
  {
   "cell_type": "code",
   "execution_count": 56,
   "id": "bf162fbd-2ca8-4521-95de-4a9277848866",
   "metadata": {},
   "outputs": [],
   "source": [
    "df['PCT_thirty_plus'].replace('', np.nan, inplace=True)\n",
    "df['PCT_fifty_plus'].replace('', np.nan, inplace=True)"
   ]
  },
  {
   "cell_type": "code",
   "execution_count": 57,
   "id": "ad104436-6f5d-4f9d-8a90-f1511d974ee2",
   "metadata": {},
   "outputs": [],
   "source": [
    "df.dropna(subset=['PCT_thirty_plus'], inplace=True)\n",
    "df.dropna(subset=['PCT_fifty_plus'], inplace=True)"
   ]
  },
  {
   "cell_type": "code",
   "execution_count": 58,
   "id": "9e06d921-5eb1-4ecc-9a88-526dbc7da2e1",
   "metadata": {},
   "outputs": [
    {
     "data": {
      "text/html": [
       "<div>\n",
       "<style scoped>\n",
       "    .dataframe tbody tr th:only-of-type {\n",
       "        vertical-align: middle;\n",
       "    }\n",
       "\n",
       "    .dataframe tbody tr th {\n",
       "        vertical-align: top;\n",
       "    }\n",
       "\n",
       "    .dataframe thead th {\n",
       "        text-align: right;\n",
       "    }\n",
       "</style>\n",
       "<table border=\"1\" class=\"dataframe\">\n",
       "  <thead>\n",
       "    <tr style=\"text-align: right;\">\n",
       "      <th></th>\n",
       "      <th>FIPS</th>\n",
       "      <th>PCT_thirty_plus</th>\n",
       "      <th>PCT_fifty_plus</th>\n",
       "    </tr>\n",
       "  </thead>\n",
       "  <tbody>\n",
       "    <tr>\n",
       "      <th>0</th>\n",
       "      <td>06037101110</td>\n",
       "      <td>27.14</td>\n",
       "      <td>33.66</td>\n",
       "    </tr>\n",
       "    <tr>\n",
       "      <th>2</th>\n",
       "      <td>06037101210</td>\n",
       "      <td>24.29</td>\n",
       "      <td>43.65</td>\n",
       "    </tr>\n",
       "    <tr>\n",
       "      <th>3</th>\n",
       "      <td>06037101220</td>\n",
       "      <td>28.07</td>\n",
       "      <td>46.42</td>\n",
       "    </tr>\n",
       "    <tr>\n",
       "      <th>4</th>\n",
       "      <td>06037101300</td>\n",
       "      <td>11.38</td>\n",
       "      <td>43.11</td>\n",
       "    </tr>\n",
       "    <tr>\n",
       "      <th>5</th>\n",
       "      <td>06037101400</td>\n",
       "      <td>25.71</td>\n",
       "      <td>33.73</td>\n",
       "    </tr>\n",
       "    <tr>\n",
       "      <th>...</th>\n",
       "      <td>...</td>\n",
       "      <td>...</td>\n",
       "      <td>...</td>\n",
       "    </tr>\n",
       "    <tr>\n",
       "      <th>2331</th>\n",
       "      <td>06037980019</td>\n",
       "      <td>0</td>\n",
       "      <td>33.33</td>\n",
       "    </tr>\n",
       "    <tr>\n",
       "      <th>2336</th>\n",
       "      <td>06037980024</td>\n",
       "      <td>0</td>\n",
       "      <td>16</td>\n",
       "    </tr>\n",
       "    <tr>\n",
       "      <th>2338</th>\n",
       "      <td>06037980026</td>\n",
       "      <td>0</td>\n",
       "      <td>0</td>\n",
       "    </tr>\n",
       "    <tr>\n",
       "      <th>2341</th>\n",
       "      <td>06037980031</td>\n",
       "      <td>79.17</td>\n",
       "      <td>0</td>\n",
       "    </tr>\n",
       "    <tr>\n",
       "      <th>2342</th>\n",
       "      <td>06037980033</td>\n",
       "      <td>0</td>\n",
       "      <td>100</td>\n",
       "    </tr>\n",
       "  </tbody>\n",
       "</table>\n",
       "<p>2316 rows × 3 columns</p>\n",
       "</div>"
      ],
      "text/plain": [
       "             FIPS PCT_thirty_plus PCT_fifty_plus\n",
       "0     06037101110           27.14          33.66\n",
       "2     06037101210           24.29          43.65\n",
       "3     06037101220           28.07          46.42\n",
       "4     06037101300           11.38          43.11\n",
       "5     06037101400           25.71          33.73\n",
       "...           ...             ...            ...\n",
       "2331  06037980019               0          33.33\n",
       "2336  06037980024               0             16\n",
       "2338  06037980026               0              0\n",
       "2341  06037980031           79.17              0\n",
       "2342  06037980033               0            100\n",
       "\n",
       "[2316 rows x 3 columns]"
      ]
     },
     "execution_count": 58,
     "metadata": {},
     "output_type": "execute_result"
    }
   ],
   "source": [
    "df"
   ]
  },
  {
   "cell_type": "markdown",
   "id": "38745894-d9b2-4ae6-93b4-b16442d26e64",
   "metadata": {},
   "source": [
    "here i am turning the rows into floats so i can do math "
   ]
  },
  {
   "cell_type": "code",
   "execution_count": 59,
   "id": "e6d215d9-df54-404a-a8a3-b5da39fc2ed4",
   "metadata": {},
   "outputs": [],
   "source": [
    "df['PCT_thirty_plus'] = df['PCT_thirty_plus'].astype(float)\n",
    "df['PCT_fifty_plus'] = df['PCT_fifty_plus'].astype(float)"
   ]
  },
  {
   "cell_type": "code",
   "execution_count": 60,
   "id": "b031b489-fb03-477f-aea9-47b8e877e8a9",
   "metadata": {},
   "outputs": [
    {
     "data": {
      "text/html": [
       "<div>\n",
       "<style scoped>\n",
       "    .dataframe tbody tr th:only-of-type {\n",
       "        vertical-align: middle;\n",
       "    }\n",
       "\n",
       "    .dataframe tbody tr th {\n",
       "        vertical-align: top;\n",
       "    }\n",
       "\n",
       "    .dataframe thead th {\n",
       "        text-align: right;\n",
       "    }\n",
       "</style>\n",
       "<table border=\"1\" class=\"dataframe\">\n",
       "  <thead>\n",
       "    <tr style=\"text-align: right;\">\n",
       "      <th></th>\n",
       "      <th>PCT_thirty_plus</th>\n",
       "      <th>PCT_fifty_plus</th>\n",
       "    </tr>\n",
       "    <tr>\n",
       "      <th>FIPS</th>\n",
       "      <th></th>\n",
       "      <th></th>\n",
       "    </tr>\n",
       "  </thead>\n",
       "  <tbody>\n",
       "    <tr>\n",
       "      <th>06037101110</th>\n",
       "      <td>27.14</td>\n",
       "      <td>33.66</td>\n",
       "    </tr>\n",
       "    <tr>\n",
       "      <th>06037101210</th>\n",
       "      <td>24.29</td>\n",
       "      <td>43.65</td>\n",
       "    </tr>\n",
       "    <tr>\n",
       "      <th>06037101220</th>\n",
       "      <td>28.07</td>\n",
       "      <td>46.42</td>\n",
       "    </tr>\n",
       "    <tr>\n",
       "      <th>06037101300</th>\n",
       "      <td>11.38</td>\n",
       "      <td>43.11</td>\n",
       "    </tr>\n",
       "    <tr>\n",
       "      <th>06037101400</th>\n",
       "      <td>25.71</td>\n",
       "      <td>33.73</td>\n",
       "    </tr>\n",
       "    <tr>\n",
       "      <th>...</th>\n",
       "      <td>...</td>\n",
       "      <td>...</td>\n",
       "    </tr>\n",
       "    <tr>\n",
       "      <th>06037980019</th>\n",
       "      <td>0.00</td>\n",
       "      <td>33.33</td>\n",
       "    </tr>\n",
       "    <tr>\n",
       "      <th>06037980024</th>\n",
       "      <td>0.00</td>\n",
       "      <td>16.00</td>\n",
       "    </tr>\n",
       "    <tr>\n",
       "      <th>06037980026</th>\n",
       "      <td>0.00</td>\n",
       "      <td>0.00</td>\n",
       "    </tr>\n",
       "    <tr>\n",
       "      <th>06037980031</th>\n",
       "      <td>79.17</td>\n",
       "      <td>0.00</td>\n",
       "    </tr>\n",
       "    <tr>\n",
       "      <th>06037980033</th>\n",
       "      <td>0.00</td>\n",
       "      <td>100.00</td>\n",
       "    </tr>\n",
       "  </tbody>\n",
       "</table>\n",
       "<p>2316 rows × 2 columns</p>\n",
       "</div>"
      ],
      "text/plain": [
       "             PCT_thirty_plus  PCT_fifty_plus\n",
       "FIPS                                        \n",
       "06037101110            27.14           33.66\n",
       "06037101210            24.29           43.65\n",
       "06037101220            28.07           46.42\n",
       "06037101300            11.38           43.11\n",
       "06037101400            25.71           33.73\n",
       "...                      ...             ...\n",
       "06037980019             0.00           33.33\n",
       "06037980024             0.00           16.00\n",
       "06037980026             0.00            0.00\n",
       "06037980031            79.17            0.00\n",
       "06037980033             0.00          100.00\n",
       "\n",
       "[2316 rows x 2 columns]"
      ]
     },
     "execution_count": 60,
     "metadata": {},
     "output_type": "execute_result"
    }
   ],
   "source": [
    "df.set_index('FIPS')"
   ]
  },
  {
   "cell_type": "markdown",
   "id": "7daabcf2-ca56-4fa7-8f17-b19c35a3bf4a",
   "metadata": {},
   "source": [
    "# sort data"
   ]
  },
  {
   "cell_type": "markdown",
   "id": "4fc0ab9f-e5a2-4714-9389-74e49c42fd93",
   "metadata": {},
   "source": [
    "i want to breakdown my data set by neighborhood so i am making lists of all the fips codes that fall into each neihgborhood of interest for our project. "
   ]
  },
  {
   "cell_type": "code",
   "execution_count": 61,
   "id": "ed95380c-1b37-437e-815b-af3b275c6411",
   "metadata": {},
   "outputs": [],
   "source": [
    "westlake = ['06037195710',\n",
    " '06037195802',\n",
    " '06037195903',\n",
    " '06037208001',\n",
    " '06037208301',\n",
    " '06037208302',\n",
    " '06037208401',\n",
    " '06037208402',\n",
    " '06037208501',\n",
    " '06037208502',\n",
    " '06037208610',\n",
    " '06037208620',\n",
    " '06037208710',\n",
    " '06037208720',\n",
    " '06037208801',\n",
    " '06037208802',\n",
    " '06037208902',\n",
    " '06037208903',\n",
    " '06037208904',\n",
    " '06037209103',\n",
    " '06037209104',\n",
    " '06037209105',\n",
    " '06037209106',\n",
    " '06037209201',\n",
    " '06037209202',\n",
    " '06037209300',\n",
    " '06037209401',\n",
    " '06037209402',\n",
    " '06037209403',\n",
    " '06037209510',\n",
    " '06037209520',\n",
    " '06037210010',\n",
    " '06037211121',\n",
    " '06037211123',\n",
    " '06037211124',\n",
    " '06037212202',\n",
    " '06037212204',\n",
    " '06037213401']\n"
   ]
  },
  {
   "cell_type": "code",
   "execution_count": 62,
   "id": "7ddae2ca-0712-4e05-8485-f39981fe47b6",
   "metadata": {},
   "outputs": [],
   "source": [
    "jefferson_park = ['06037218701',\n",
    " '06037218702',\n",
    " '06037218800',\n",
    " '06037218900',\n",
    " '06037219010',\n",
    " '06037219020',\n",
    " '06037219300',\n",
    " '06037221401',\n",
    " '06037221402',\n",
    " '06037222001']\n"
   ]
  },
  {
   "cell_type": "code",
   "execution_count": 63,
   "id": "5fcc00b4-33b0-4694-8b07-6504677cc2da",
   "metadata": {},
   "outputs": [],
   "source": [
    "lincoln_heights = ['06037199001',\n",
    " '06037199002',\n",
    " '06037199110',\n",
    " '06037199120',\n",
    " '06037199201',\n",
    " '06037199202',\n",
    " '06037199300',\n",
    " '06037199400',\n",
    " '06037199700',\n",
    " '06037199801',\n",
    " '06037199802',\n",
    " '06037199900',\n",
    " '06037203500',\n",
    " '06037206010',\n",
    " '06037206020',\n",
    " '06037980010']\n"
   ]
  },
  {
   "cell_type": "code",
   "execution_count": 64,
   "id": "94167e23-dd68-4b30-89f1-77837072eca9",
   "metadata": {},
   "outputs": [],
   "source": [
    "boyle_heights = ['06037203100',\n",
    " '06037203200',\n",
    " '06037203300',\n",
    " '06037203500',\n",
    " '06037203601',\n",
    " '06037203602',\n",
    " '06037203710',\n",
    " '06037203720',\n",
    " '06037203800',\n",
    " '06037203900',\n",
    " '06037204110',\n",
    " '06037204120',\n",
    " '06037204200',\n",
    " '06037204300',\n",
    " '06037204410',\n",
    " '06037204420',\n",
    " '06037204600',\n",
    " '06037204700',\n",
    " '06037204810',\n",
    " '06037204820',\n",
    " '06037204910',\n",
    " '06037204920',\n",
    " '06037205110',\n",
    " '06037205120',\n",
    " '06037206020',\n",
    " '06037206050',\n",
    " '06037206051',\n",
    " '06037206052',\n",
    " '06037206053',\n",
    " '06037206054']\n"
   ]
  },
  {
   "cell_type": "code",
   "execution_count": 65,
   "id": "3686bf87-9550-44a6-874f-2d272fe15318",
   "metadata": {},
   "outputs": [],
   "source": [
    "los_feliz = ['06037188201',\n",
    " '06037188202',\n",
    " '06037189101',\n",
    " '06037189102',\n",
    " '06037189201',\n",
    " '06037189202',\n",
    " '06037189300',\n",
    " '06037190401',\n",
    " '06037190402',\n",
    " '06037191201',\n",
    " '06037195201',\n",
    " '06037195202',\n",
    " '06037195300',\n",
    " '06037980009']\n"
   ]
  },
  {
   "cell_type": "code",
   "execution_count": 66,
   "id": "446ce6e1-f83b-46f6-87d0-98c7a350a56a",
   "metadata": {},
   "outputs": [],
   "source": [
    "fairfax = ['06037192001',\n",
    " '06037192002',\n",
    " '06037194401',\n",
    " '06037214000',\n",
    " '06037214400',\n",
    " '06037214501']\n"
   ]
  },
  {
   "cell_type": "markdown",
   "id": "9ebf1660-31c7-45a2-8b8b-8bf252f2d441",
   "metadata": {},
   "source": [
    "now im making a new data frame for each neighborhood using \"isin\" this creates a dataframe where a 'FIPS' from one list is in a 'FIPS' from another data frame"
   ]
  },
  {
   "cell_type": "code",
   "execution_count": 67,
   "id": "f45f00be-c3aa-4dff-9eb4-7fa645c62394",
   "metadata": {},
   "outputs": [],
   "source": [
    "westlake=df.loc[df['FIPS'].isin(westlake)]\n",
    "jefferson_park=df.loc[df['FIPS'].isin(jefferson_park)]\n",
    "lincoln_heights=df.loc[df['FIPS'].isin(lincoln_heights)]\n",
    "boyle_heights=df.loc[df['FIPS'].isin(boyle_heights)]\n",
    "los_feliz=df.loc[df['FIPS'].isin(los_feliz)]\n",
    "fairfax=df.loc[df['FIPS'].isin(fairfax)]"
   ]
  },
  {
   "cell_type": "markdown",
   "id": "1d0d9d45-2404-4162-b66a-f6a671d49642",
   "metadata": {},
   "source": [
    "check it out!"
   ]
  },
  {
   "cell_type": "code",
   "execution_count": 68,
   "id": "41129591-71f8-4b35-bf7a-66ea27731c95",
   "metadata": {},
   "outputs": [
    {
     "name": "stdout",
     "output_type": "stream",
     "text": [
      "<class 'pandas.core.frame.DataFrame'>\n",
      "Int64Index: 31 entries, 469 to 620\n",
      "Data columns (total 3 columns):\n",
      " #   Column           Non-Null Count  Dtype  \n",
      "---  ------           --------------  -----  \n",
      " 0   FIPS             31 non-null     object \n",
      " 1   PCT_thirty_plus  31 non-null     float64\n",
      " 2   PCT_fifty_plus   31 non-null     float64\n",
      "dtypes: float64(2), object(1)\n",
      "memory usage: 992.0+ bytes\n"
     ]
    }
   ],
   "source": [
    "westlake.info()"
   ]
  },
  {
   "cell_type": "code",
   "execution_count": 69,
   "id": "cfa37dd1-a2b7-4c9f-b642-f486d51cafe7",
   "metadata": {},
   "outputs": [
    {
     "data": {
      "text/html": [
       "<div>\n",
       "<style scoped>\n",
       "    .dataframe tbody tr th:only-of-type {\n",
       "        vertical-align: middle;\n",
       "    }\n",
       "\n",
       "    .dataframe tbody tr th {\n",
       "        vertical-align: top;\n",
       "    }\n",
       "\n",
       "    .dataframe thead th {\n",
       "        text-align: right;\n",
       "    }\n",
       "</style>\n",
       "<table border=\"1\" class=\"dataframe\">\n",
       "  <thead>\n",
       "    <tr style=\"text-align: right;\">\n",
       "      <th></th>\n",
       "      <th>FIPS</th>\n",
       "      <th>PCT_thirty_plus</th>\n",
       "      <th>PCT_fifty_plus</th>\n",
       "    </tr>\n",
       "  </thead>\n",
       "  <tbody>\n",
       "    <tr>\n",
       "      <th>469</th>\n",
       "      <td>06037195710</td>\n",
       "      <td>24.19</td>\n",
       "      <td>27.51</td>\n",
       "    </tr>\n",
       "    <tr>\n",
       "      <th>471</th>\n",
       "      <td>06037195802</td>\n",
       "      <td>22.58</td>\n",
       "      <td>31.56</td>\n",
       "    </tr>\n",
       "    <tr>\n",
       "      <th>476</th>\n",
       "      <td>06037195903</td>\n",
       "      <td>22.05</td>\n",
       "      <td>27.74</td>\n",
       "    </tr>\n",
       "    <tr>\n",
       "      <th>548</th>\n",
       "      <td>06037208301</td>\n",
       "      <td>13.77</td>\n",
       "      <td>40.34</td>\n",
       "    </tr>\n",
       "    <tr>\n",
       "      <th>549</th>\n",
       "      <td>06037208302</td>\n",
       "      <td>32.35</td>\n",
       "      <td>30.46</td>\n",
       "    </tr>\n",
       "    <tr>\n",
       "      <th>550</th>\n",
       "      <td>06037208401</td>\n",
       "      <td>34.88</td>\n",
       "      <td>23.21</td>\n",
       "    </tr>\n",
       "    <tr>\n",
       "      <th>551</th>\n",
       "      <td>06037208402</td>\n",
       "      <td>30.03</td>\n",
       "      <td>32.44</td>\n",
       "    </tr>\n",
       "    <tr>\n",
       "      <th>552</th>\n",
       "      <td>06037208501</td>\n",
       "      <td>27.50</td>\n",
       "      <td>21.39</td>\n",
       "    </tr>\n",
       "    <tr>\n",
       "      <th>553</th>\n",
       "      <td>06037208502</td>\n",
       "      <td>28.13</td>\n",
       "      <td>18.17</td>\n",
       "    </tr>\n",
       "    <tr>\n",
       "      <th>554</th>\n",
       "      <td>06037208610</td>\n",
       "      <td>22.65</td>\n",
       "      <td>32.35</td>\n",
       "    </tr>\n",
       "    <tr>\n",
       "      <th>555</th>\n",
       "      <td>06037208620</td>\n",
       "      <td>29.12</td>\n",
       "      <td>26.96</td>\n",
       "    </tr>\n",
       "    <tr>\n",
       "      <th>556</th>\n",
       "      <td>06037208710</td>\n",
       "      <td>23.79</td>\n",
       "      <td>25.09</td>\n",
       "    </tr>\n",
       "    <tr>\n",
       "      <th>557</th>\n",
       "      <td>06037208720</td>\n",
       "      <td>23.12</td>\n",
       "      <td>35.04</td>\n",
       "    </tr>\n",
       "    <tr>\n",
       "      <th>558</th>\n",
       "      <td>06037208801</td>\n",
       "      <td>40.13</td>\n",
       "      <td>24.25</td>\n",
       "    </tr>\n",
       "    <tr>\n",
       "      <th>559</th>\n",
       "      <td>06037208802</td>\n",
       "      <td>30.34</td>\n",
       "      <td>33.33</td>\n",
       "    </tr>\n",
       "    <tr>\n",
       "      <th>560</th>\n",
       "      <td>06037208902</td>\n",
       "      <td>35.51</td>\n",
       "      <td>26.85</td>\n",
       "    </tr>\n",
       "    <tr>\n",
       "      <th>561</th>\n",
       "      <td>06037208903</td>\n",
       "      <td>22.82</td>\n",
       "      <td>37.80</td>\n",
       "    </tr>\n",
       "    <tr>\n",
       "      <th>562</th>\n",
       "      <td>06037208904</td>\n",
       "      <td>22.47</td>\n",
       "      <td>24.04</td>\n",
       "    </tr>\n",
       "    <tr>\n",
       "      <th>564</th>\n",
       "      <td>06037209103</td>\n",
       "      <td>33.65</td>\n",
       "      <td>34.78</td>\n",
       "    </tr>\n",
       "    <tr>\n",
       "      <th>565</th>\n",
       "      <td>06037209104</td>\n",
       "      <td>30.54</td>\n",
       "      <td>29.81</td>\n",
       "    </tr>\n",
       "    <tr>\n",
       "      <th>567</th>\n",
       "      <td>06037209300</td>\n",
       "      <td>33.42</td>\n",
       "      <td>30.79</td>\n",
       "    </tr>\n",
       "    <tr>\n",
       "      <th>568</th>\n",
       "      <td>06037209401</td>\n",
       "      <td>31.73</td>\n",
       "      <td>26.74</td>\n",
       "    </tr>\n",
       "    <tr>\n",
       "      <th>569</th>\n",
       "      <td>06037209402</td>\n",
       "      <td>23.65</td>\n",
       "      <td>36.29</td>\n",
       "    </tr>\n",
       "    <tr>\n",
       "      <th>570</th>\n",
       "      <td>06037209403</td>\n",
       "      <td>29.48</td>\n",
       "      <td>35.96</td>\n",
       "    </tr>\n",
       "    <tr>\n",
       "      <th>571</th>\n",
       "      <td>06037209510</td>\n",
       "      <td>25.78</td>\n",
       "      <td>34.48</td>\n",
       "    </tr>\n",
       "    <tr>\n",
       "      <th>572</th>\n",
       "      <td>06037209520</td>\n",
       "      <td>34.72</td>\n",
       "      <td>31.94</td>\n",
       "    </tr>\n",
       "    <tr>\n",
       "      <th>575</th>\n",
       "      <td>06037210010</td>\n",
       "      <td>32.89</td>\n",
       "      <td>27.15</td>\n",
       "    </tr>\n",
       "    <tr>\n",
       "      <th>578</th>\n",
       "      <td>06037211121</td>\n",
       "      <td>20.10</td>\n",
       "      <td>22.65</td>\n",
       "    </tr>\n",
       "    <tr>\n",
       "      <th>598</th>\n",
       "      <td>06037212202</td>\n",
       "      <td>26.48</td>\n",
       "      <td>29.16</td>\n",
       "    </tr>\n",
       "    <tr>\n",
       "      <th>600</th>\n",
       "      <td>06037212204</td>\n",
       "      <td>28.62</td>\n",
       "      <td>31.46</td>\n",
       "    </tr>\n",
       "    <tr>\n",
       "      <th>620</th>\n",
       "      <td>06037213401</td>\n",
       "      <td>24.05</td>\n",
       "      <td>42.95</td>\n",
       "    </tr>\n",
       "  </tbody>\n",
       "</table>\n",
       "</div>"
      ],
      "text/plain": [
       "            FIPS  PCT_thirty_plus  PCT_fifty_plus\n",
       "469  06037195710            24.19           27.51\n",
       "471  06037195802            22.58           31.56\n",
       "476  06037195903            22.05           27.74\n",
       "548  06037208301            13.77           40.34\n",
       "549  06037208302            32.35           30.46\n",
       "550  06037208401            34.88           23.21\n",
       "551  06037208402            30.03           32.44\n",
       "552  06037208501            27.50           21.39\n",
       "553  06037208502            28.13           18.17\n",
       "554  06037208610            22.65           32.35\n",
       "555  06037208620            29.12           26.96\n",
       "556  06037208710            23.79           25.09\n",
       "557  06037208720            23.12           35.04\n",
       "558  06037208801            40.13           24.25\n",
       "559  06037208802            30.34           33.33\n",
       "560  06037208902            35.51           26.85\n",
       "561  06037208903            22.82           37.80\n",
       "562  06037208904            22.47           24.04\n",
       "564  06037209103            33.65           34.78\n",
       "565  06037209104            30.54           29.81\n",
       "567  06037209300            33.42           30.79\n",
       "568  06037209401            31.73           26.74\n",
       "569  06037209402            23.65           36.29\n",
       "570  06037209403            29.48           35.96\n",
       "571  06037209510            25.78           34.48\n",
       "572  06037209520            34.72           31.94\n",
       "575  06037210010            32.89           27.15\n",
       "578  06037211121            20.10           22.65\n",
       "598  06037212202            26.48           29.16\n",
       "600  06037212204            28.62           31.46\n",
       "620  06037213401            24.05           42.95"
      ]
     },
     "execution_count": 69,
     "metadata": {},
     "output_type": "execute_result"
    }
   ],
   "source": [
    "westlake"
   ]
  },
  {
   "cell_type": "markdown",
   "id": "62582dcc-3073-45d2-93b9-495606f88303",
   "metadata": {},
   "source": [
    "in the end i want to compare rent burden's across the varius neighborhoods so i am going to find the average of each column in each dataframe in order to draw comparisons in each neighborhood. \n",
    "\n",
    "I am starting with westlake. I am creating new values for each average, \"wTm\" stands for the **mean** of all the FIPS in **Westlake** that spend between **thirty** and fortynine percent of thier income on rent. \"wFm\" stands for the **mean** if all the FIPs in **Westlake** that spend **fifty** percent or more of thier income on rent"
   ]
  },
  {
   "cell_type": "code",
   "execution_count": 70,
   "id": "04018091-b41e-460f-87d0-f0a1688b2edb",
   "metadata": {},
   "outputs": [
    {
     "data": {
      "text/plain": [
       "(27.759354838709676, 30.086774193548393)"
      ]
     },
     "execution_count": 70,
     "metadata": {},
     "output_type": "execute_result"
    }
   ],
   "source": [
    "wTm = westlake[\"PCT_thirty_plus\"].mean()\n",
    "wFm = westlake[\"PCT_fifty_plus\"].mean()\n",
    "wTm, wFm"
   ]
  },
  {
   "cell_type": "markdown",
   "id": "ebe44d3e-9021-4897-bcb6-205d02e106fa",
   "metadata": {},
   "source": [
    "i am going to do this with each neighborhood in order to make comparisons"
   ]
  },
  {
   "cell_type": "code",
   "execution_count": 71,
   "id": "65e2edf8-1c01-4917-9202-d00d5df0ff0f",
   "metadata": {},
   "outputs": [
    {
     "data": {
      "text/html": [
       "<div>\n",
       "<style scoped>\n",
       "    .dataframe tbody tr th:only-of-type {\n",
       "        vertical-align: middle;\n",
       "    }\n",
       "\n",
       "    .dataframe tbody tr th {\n",
       "        vertical-align: top;\n",
       "    }\n",
       "\n",
       "    .dataframe thead th {\n",
       "        text-align: right;\n",
       "    }\n",
       "</style>\n",
       "<table border=\"1\" class=\"dataframe\">\n",
       "  <thead>\n",
       "    <tr style=\"text-align: right;\">\n",
       "      <th></th>\n",
       "      <th>FIPS</th>\n",
       "      <th>PCT_thirty_plus</th>\n",
       "      <th>PCT_fifty_plus</th>\n",
       "    </tr>\n",
       "  </thead>\n",
       "  <tbody>\n",
       "    <tr>\n",
       "      <th>655</th>\n",
       "      <td>06037218701</td>\n",
       "      <td>20.93</td>\n",
       "      <td>37.79</td>\n",
       "    </tr>\n",
       "    <tr>\n",
       "      <th>656</th>\n",
       "      <td>06037218702</td>\n",
       "      <td>32.14</td>\n",
       "      <td>36.38</td>\n",
       "    </tr>\n",
       "    <tr>\n",
       "      <th>657</th>\n",
       "      <td>06037218800</td>\n",
       "      <td>31.64</td>\n",
       "      <td>21.50</td>\n",
       "    </tr>\n",
       "    <tr>\n",
       "      <th>658</th>\n",
       "      <td>06037218900</td>\n",
       "      <td>24.86</td>\n",
       "      <td>37.49</td>\n",
       "    </tr>\n",
       "    <tr>\n",
       "      <th>659</th>\n",
       "      <td>06037219010</td>\n",
       "      <td>20.90</td>\n",
       "      <td>28.50</td>\n",
       "    </tr>\n",
       "    <tr>\n",
       "      <th>660</th>\n",
       "      <td>06037219020</td>\n",
       "      <td>23.69</td>\n",
       "      <td>30.62</td>\n",
       "    </tr>\n",
       "    <tr>\n",
       "      <th>661</th>\n",
       "      <td>06037219300</td>\n",
       "      <td>20.18</td>\n",
       "      <td>37.00</td>\n",
       "    </tr>\n",
       "    <tr>\n",
       "      <th>676</th>\n",
       "      <td>06037221401</td>\n",
       "      <td>24.84</td>\n",
       "      <td>49.68</td>\n",
       "    </tr>\n",
       "    <tr>\n",
       "      <th>677</th>\n",
       "      <td>06037221402</td>\n",
       "      <td>26.11</td>\n",
       "      <td>41.51</td>\n",
       "    </tr>\n",
       "    <tr>\n",
       "      <th>685</th>\n",
       "      <td>06037222001</td>\n",
       "      <td>26.46</td>\n",
       "      <td>52.22</td>\n",
       "    </tr>\n",
       "  </tbody>\n",
       "</table>\n",
       "</div>"
      ],
      "text/plain": [
       "            FIPS  PCT_thirty_plus  PCT_fifty_plus\n",
       "655  06037218701            20.93           37.79\n",
       "656  06037218702            32.14           36.38\n",
       "657  06037218800            31.64           21.50\n",
       "658  06037218900            24.86           37.49\n",
       "659  06037219010            20.90           28.50\n",
       "660  06037219020            23.69           30.62\n",
       "661  06037219300            20.18           37.00\n",
       "676  06037221401            24.84           49.68\n",
       "677  06037221402            26.11           41.51\n",
       "685  06037222001            26.46           52.22"
      ]
     },
     "execution_count": 71,
     "metadata": {},
     "output_type": "execute_result"
    }
   ],
   "source": [
    "jefferson_park"
   ]
  },
  {
   "cell_type": "code",
   "execution_count": 72,
   "id": "d3438d98-670d-4f95-bb65-bff3510ff813",
   "metadata": {},
   "outputs": [
    {
     "data": {
      "text/plain": [
       "(25.175000000000004, 37.269000000000005)"
      ]
     },
     "execution_count": 72,
     "metadata": {},
     "output_type": "execute_result"
    }
   ],
   "source": [
    "jTm = jefferson_park[\"PCT_thirty_plus\"].mean()\n",
    "jFm = jefferson_park[\"PCT_fifty_plus\"].mean()\n",
    "jTm, jFm"
   ]
  },
  {
   "cell_type": "code",
   "execution_count": 74,
   "id": "f92f423e-d9d4-48f1-bcf1-929e7d938367",
   "metadata": {},
   "outputs": [
    {
     "data": {
      "text/plain": [
       "(23.305000000000003, 33.6625)"
      ]
     },
     "execution_count": 74,
     "metadata": {},
     "output_type": "execute_result"
    }
   ],
   "source": [
    "lTm = lincoln_heights[\"PCT_thirty_plus\"].mean()\n",
    "lFm = lincoln_heights[\"PCT_fifty_plus\"].mean()\n",
    "lTm, lFm"
   ]
  },
  {
   "cell_type": "code",
   "execution_count": 76,
   "id": "de59ad5c-7ba9-4cb5-9051-5bc483fae076",
   "metadata": {},
   "outputs": [
    {
     "data": {
      "text/plain": [
       "(28.169166666666666, 31.114583333333332)"
      ]
     },
     "execution_count": 76,
     "metadata": {},
     "output_type": "execute_result"
    }
   ],
   "source": [
    "bTm = boyle_heights[\"PCT_thirty_plus\"].mean()\n",
    "bFm = boyle_heights[\"PCT_fifty_plus\"].mean()\n",
    "lfTm = los_feliz[\"PCT_thirty_plus\"].mean()\n",
    "lfFm = los_feliz[\"PCT_fifty_plus\"].mean()\n",
    "fTm = fairfax[\"PCT_thirty_plus\"].mean()\n",
    "fFm = fairfax[\"PCT_fifty_plus\"].mean()\n",
    "bTm, bFm\n"
   ]
  },
  {
   "cell_type": "markdown",
   "id": "ad752553-2519-4308-bb4a-43944db8cc41",
   "metadata": {},
   "source": [
    "now im creating a new data frame with all the averages. One column has all percentage of each neihgborhood that spends between thirty and fortynine percent of thier income on rent and the other has the percent of eac neighborhood that spends fifty percent or more of thier income on rent"
   ]
  },
  {
   "cell_type": "code",
   "execution_count": 78,
   "id": "2ff49693-3946-439a-8326-e7ce70b28ca8",
   "metadata": {},
   "outputs": [
    {
     "data": {
      "text/html": [
       "<div>\n",
       "<style scoped>\n",
       "    .dataframe tbody tr th:only-of-type {\n",
       "        vertical-align: middle;\n",
       "    }\n",
       "\n",
       "    .dataframe tbody tr th {\n",
       "        vertical-align: top;\n",
       "    }\n",
       "\n",
       "    .dataframe thead th {\n",
       "        text-align: right;\n",
       "    }\n",
       "</style>\n",
       "<table border=\"1\" class=\"dataframe\">\n",
       "  <thead>\n",
       "    <tr style=\"text-align: right;\">\n",
       "      <th></th>\n",
       "      <th>pecnt_thirty</th>\n",
       "      <th>pecnt_fifty_plu</th>\n",
       "    </tr>\n",
       "  </thead>\n",
       "  <tbody>\n",
       "    <tr>\n",
       "      <th>0</th>\n",
       "      <td>27.759355</td>\n",
       "      <td>30.086774</td>\n",
       "    </tr>\n",
       "    <tr>\n",
       "      <th>1</th>\n",
       "      <td>25.175000</td>\n",
       "      <td>37.269000</td>\n",
       "    </tr>\n",
       "    <tr>\n",
       "      <th>2</th>\n",
       "      <td>23.305000</td>\n",
       "      <td>33.662500</td>\n",
       "    </tr>\n",
       "    <tr>\n",
       "      <th>3</th>\n",
       "      <td>28.169167</td>\n",
       "      <td>31.114583</td>\n",
       "    </tr>\n",
       "    <tr>\n",
       "      <th>4</th>\n",
       "      <td>22.429231</td>\n",
       "      <td>23.641538</td>\n",
       "    </tr>\n",
       "    <tr>\n",
       "      <th>5</th>\n",
       "      <td>23.546667</td>\n",
       "      <td>24.893333</td>\n",
       "    </tr>\n",
       "  </tbody>\n",
       "</table>\n",
       "</div>"
      ],
      "text/plain": [
       "   pecnt_thirty  pecnt_fifty_plu\n",
       "0     27.759355        30.086774\n",
       "1     25.175000        37.269000\n",
       "2     23.305000        33.662500\n",
       "3     28.169167        31.114583\n",
       "4     22.429231        23.641538\n",
       "5     23.546667        24.893333"
      ]
     },
     "execution_count": 78,
     "metadata": {},
     "output_type": "execute_result"
    }
   ],
   "source": [
    "f1 = pd.DataFrame({'pecnt_thirty': [wTm, jTm, lTm, bTm, lfTm, fTm], \n",
    "                   'pecnt_fifty_plu': [wFm, jFm, lFm, bFm, lfFm, fFm]})\n",
    "f1"
   ]
  },
  {
   "cell_type": "markdown",
   "id": "33e7f219-5e5f-4727-ba5e-54b8e3e4d2b2",
   "metadata": {},
   "source": [
    "adding a column by neighborhood gotta be really careful with this to make sure that every neighborhood has the rigt column. next week i am going to try to figure out how to do this in a safer way."
   ]
  },
  {
   "cell_type": "code",
   "execution_count": 80,
   "id": "86acb9c9-b01f-43a6-83db-4a045c58cfa7",
   "metadata": {},
   "outputs": [
    {
     "data": {
      "text/html": [
       "<div>\n",
       "<style scoped>\n",
       "    .dataframe tbody tr th:only-of-type {\n",
       "        vertical-align: middle;\n",
       "    }\n",
       "\n",
       "    .dataframe tbody tr th {\n",
       "        vertical-align: top;\n",
       "    }\n",
       "\n",
       "    .dataframe thead th {\n",
       "        text-align: right;\n",
       "    }\n",
       "</style>\n",
       "<table border=\"1\" class=\"dataframe\">\n",
       "  <thead>\n",
       "    <tr style=\"text-align: right;\">\n",
       "      <th></th>\n",
       "      <th>pecnt_thirty</th>\n",
       "      <th>pecnt_fifty_plu</th>\n",
       "      <th>neighborhood</th>\n",
       "    </tr>\n",
       "  </thead>\n",
       "  <tbody>\n",
       "    <tr>\n",
       "      <th>0</th>\n",
       "      <td>27.759355</td>\n",
       "      <td>30.086774</td>\n",
       "      <td>westlake</td>\n",
       "    </tr>\n",
       "    <tr>\n",
       "      <th>1</th>\n",
       "      <td>25.175000</td>\n",
       "      <td>37.269000</td>\n",
       "      <td>jefferson park</td>\n",
       "    </tr>\n",
       "    <tr>\n",
       "      <th>2</th>\n",
       "      <td>23.305000</td>\n",
       "      <td>33.662500</td>\n",
       "      <td>lincoln_heights</td>\n",
       "    </tr>\n",
       "    <tr>\n",
       "      <th>3</th>\n",
       "      <td>28.169167</td>\n",
       "      <td>31.114583</td>\n",
       "      <td>boyle_heihgts</td>\n",
       "    </tr>\n",
       "    <tr>\n",
       "      <th>4</th>\n",
       "      <td>22.429231</td>\n",
       "      <td>23.641538</td>\n",
       "      <td>los feliz</td>\n",
       "    </tr>\n",
       "    <tr>\n",
       "      <th>5</th>\n",
       "      <td>23.546667</td>\n",
       "      <td>24.893333</td>\n",
       "      <td>fairfax</td>\n",
       "    </tr>\n",
       "  </tbody>\n",
       "</table>\n",
       "</div>"
      ],
      "text/plain": [
       "   pecnt_thirty  pecnt_fifty_plu     neighborhood\n",
       "0     27.759355        30.086774         westlake\n",
       "1     25.175000        37.269000   jefferson park\n",
       "2     23.305000        33.662500  lincoln_heights\n",
       "3     28.169167        31.114583    boyle_heihgts\n",
       "4     22.429231        23.641538        los feliz\n",
       "5     23.546667        24.893333          fairfax"
      ]
     },
     "execution_count": 80,
     "metadata": {},
     "output_type": "execute_result"
    }
   ],
   "source": [
    "f1['neighborhood'] = ['westlake', \n",
    "              'jefferson park', \n",
    "              'lincoln_heights', \n",
    "              'boyle_heihgts',\n",
    "              'los feliz',\n",
    "              'fairfax',]\n",
    "f1"
   ]
  },
  {
   "cell_type": "markdown",
   "id": "32072070-fcad-43aa-986d-fee14bc25f91",
   "metadata": {},
   "source": [
    "change the neighborhood column into the axis name"
   ]
  },
  {
   "cell_type": "code",
   "execution_count": 82,
   "id": "63e6cad4-d027-4a86-b484-b9a6647b01a2",
   "metadata": {},
   "outputs": [
    {
     "data": {
      "text/html": [
       "<div>\n",
       "<style scoped>\n",
       "    .dataframe tbody tr th:only-of-type {\n",
       "        vertical-align: middle;\n",
       "    }\n",
       "\n",
       "    .dataframe tbody tr th {\n",
       "        vertical-align: top;\n",
       "    }\n",
       "\n",
       "    .dataframe thead th {\n",
       "        text-align: right;\n",
       "    }\n",
       "</style>\n",
       "<table border=\"1\" class=\"dataframe\">\n",
       "  <thead>\n",
       "    <tr style=\"text-align: right;\">\n",
       "      <th></th>\n",
       "      <th>pecnt_thirty</th>\n",
       "      <th>pecnt_fifty_plu</th>\n",
       "    </tr>\n",
       "    <tr>\n",
       "      <th>neighborhood</th>\n",
       "      <th></th>\n",
       "      <th></th>\n",
       "    </tr>\n",
       "  </thead>\n",
       "  <tbody>\n",
       "    <tr>\n",
       "      <th>westlake</th>\n",
       "      <td>27.759355</td>\n",
       "      <td>30.086774</td>\n",
       "    </tr>\n",
       "    <tr>\n",
       "      <th>jefferson park</th>\n",
       "      <td>25.175000</td>\n",
       "      <td>37.269000</td>\n",
       "    </tr>\n",
       "    <tr>\n",
       "      <th>lincoln_heights</th>\n",
       "      <td>23.305000</td>\n",
       "      <td>33.662500</td>\n",
       "    </tr>\n",
       "    <tr>\n",
       "      <th>boyle_heihgts</th>\n",
       "      <td>28.169167</td>\n",
       "      <td>31.114583</td>\n",
       "    </tr>\n",
       "    <tr>\n",
       "      <th>los feliz</th>\n",
       "      <td>22.429231</td>\n",
       "      <td>23.641538</td>\n",
       "    </tr>\n",
       "    <tr>\n",
       "      <th>fairfax</th>\n",
       "      <td>23.546667</td>\n",
       "      <td>24.893333</td>\n",
       "    </tr>\n",
       "  </tbody>\n",
       "</table>\n",
       "</div>"
      ],
      "text/plain": [
       "                 pecnt_thirty  pecnt_fifty_plu\n",
       "neighborhood                                  \n",
       "westlake            27.759355        30.086774\n",
       "jefferson park      25.175000        37.269000\n",
       "lincoln_heights     23.305000        33.662500\n",
       "boyle_heihgts       28.169167        31.114583\n",
       "los feliz           22.429231        23.641538\n",
       "fairfax             23.546667        24.893333"
      ]
     },
     "execution_count": 82,
     "metadata": {},
     "output_type": "execute_result"
    }
   ],
   "source": [
    "f1.index = f1['neighborhood']\n",
    "f1 = f1.drop(['neighborhood'], axis=1)\n",
    "f1"
   ]
  },
  {
   "cell_type": "markdown",
   "id": "b69bac1a-f9fd-4bda-a66d-fdec689bdd29",
   "metadata": {},
   "source": [
    "now we are gonna plot! cool! for the midterm i am going to make this way more better and try to use plotly. this process felt unnecessarily clunky. "
   ]
  },
  {
   "cell_type": "code",
   "execution_count": 85,
   "id": "89d4f5a5-f139-4a8a-a45f-d40a7ca2590b",
   "metadata": {},
   "outputs": [
    {
     "data": {
      "text/plain": [
       "<AxesSubplot: xlabel='neighborhood'>"
      ]
     },
     "execution_count": 85,
     "metadata": {},
     "output_type": "execute_result"
    },
    {
     "data": {
      "image/png": "[encoded data removed]",
      "text/plain": [
       "<Figure size 640x480 with 1 Axes>"
      ]
     },
     "metadata": {},
     "output_type": "display_data"
    }
   ],
   "source": [
    "f1.plot.bar()"
   ]
  }
 ],
 "metadata": {
  "kernelspec": {
   "display_name": "Python 3 (ipykernel)",
   "language": "python",
   "name": "python3"
  },
  "language_info": {
   "codemirror_mode": {
    "name": "ipython",
    "version": 3
   },
   "file_extension": ".py",
   "mimetype": "text/x-python",
   "name": "python",
   "nbconvert_exporter": "python",
   "pygments_lexer": "ipython3",
   "version": "3.10.8"
  }
 },
 "nbformat": 4,
 "nbformat_minor": 5
}
